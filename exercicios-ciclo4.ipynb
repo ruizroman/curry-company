{
 "cells": [
  {
   "cell_type": "markdown",
   "id": "9886c90f-5477-47b7-b907-ee9828c59231",
   "metadata": {},
   "source": [
    "# Perguntas de Negócio"
   ]
  },
  {
   "cell_type": "markdown",
   "id": "919220a6-52e8-4e8e-80fe-e55ebb995e2e",
   "metadata": {},
   "source": [
    "1. Qual o número total de entregadores cadastrados na base de dados?\n",
    "2. Qual o número total de entregadores únicos cadastrados na base de dados?\n",
    "3. Qual a idade do entregador mais velho? E do mais novo?\n",
    "4. Qual o ID do entregador com a maior idade? E o ID do entregaor com a menor idade?\n",
    "5. Quais os nomes das condições climáticas?\n",
    "6. Quantas entregas foram realizadas sob condições climáticas de tempestade\n",
    "de areia? ( Sandstorms )\n",
    "7. Quais eram as condicões climáticas da data mais recente de entrega?\n",
    "8. Quantos tipos de densidade de trânsito existem na base de dados? Quais os\n",
    "nomes delas?\n",
    "9. Quantas entregas foram feitas em cada condição climática?\n",
    "10. Quantos entregadores únicos fizeram entregas em cada condição climática?\n",
    "11. Quantas entregas foram feitas em cada tipo de densidade de trânsito?\n",
    "12. Quantos entregadores únicos fizeram entregas em cada tipo de densidade\n",
    "de trânsito?\n",
    "13. Quantas cidades únicas existem na base? Quais são os seus nomes?\n",
    "14. Quantos tipos de veículos únicos existem na base?\n",
    "15. Qual o tipo de veículo que mais vez entregas com a condição de trânsito\n",
    "pesado? ( High )\n",
    "16. Qual o tipo de pedido mais feito durante condições climáticas de tempestade\n",
    "de areia?\n",
    "17. Qual a cidade com o maior número de pedidos de Bebidas (Drinks) feito em\n",
    "Scooter?\n",
    "18. Qual o nome da cidade com o (os) entregador mais velho? E o nome da\n",
    "cidade com o (os) entregadores mais novos?\n",
    "19. Quantas entregas foram feitas durante o Festival?\n",
    "20. Quantas cidades únicas tiveram entregas feitas durante o Festival?\n",
    "21. Quantas entregas foram feitas durante o Festival na cidade chamada Urban\n",
    "(\"Urban\")"
   ]
  },
  {
   "cell_type": "markdown",
   "id": "68eb040c-abb6-4585-9603-bdf7cbbbafdc",
   "metadata": {},
   "source": [
    "# Respondendo as Perguntas de Negócio"
   ]
  },
  {
   "cell_type": "markdown",
   "id": "9881e65a-edef-46ac-8a77-b3ad288da90e",
   "metadata": {
    "jp-MarkdownHeadingCollapsed": true,
    "tags": []
   },
   "source": [
    "### Imports"
   ]
  },
  {
   "cell_type": "code",
   "execution_count": 1,
   "id": "f67b3985-edd0-4a6d-bfad-e0a0d6facbb5",
   "metadata": {
    "execution": {
     "iopub.execute_input": "2023-07-23T20:51:06.763547Z",
     "iopub.status.busy": "2023-07-23T20:51:06.763547Z",
     "iopub.status.idle": "2023-07-23T20:51:07.331205Z",
     "shell.execute_reply": "2023-07-23T20:51:07.330198Z",
     "shell.execute_reply.started": "2023-07-23T20:51:06.763547Z"
    },
    "tags": []
   },
   "outputs": [],
   "source": [
    "import pandas as pd\n",
    "import numpy as np\n",
    "import re"
   ]
  },
  {
   "cell_type": "markdown",
   "id": "87ce8582-ebfc-4831-9a7b-52ca7fd297ef",
   "metadata": {
    "jp-MarkdownHeadingCollapsed": true,
    "tags": []
   },
   "source": [
    "### Lendo a base de dados"
   ]
  },
  {
   "cell_type": "code",
   "execution_count": 2,
   "id": "7ebb3097-e017-4cdc-be63-a2b2a03912e9",
   "metadata": {
    "execution": {
     "iopub.execute_input": "2023-07-23T20:51:10.526946Z",
     "iopub.status.busy": "2023-07-23T20:51:10.525947Z",
     "iopub.status.idle": "2023-07-23T20:51:10.535115Z",
     "shell.execute_reply": "2023-07-23T20:51:10.535115Z",
     "shell.execute_reply.started": "2023-07-23T20:51:10.526946Z"
    },
    "tags": []
   },
   "outputs": [
    {
     "data": {
      "text/plain": [
       "'F:\\\\Ruiz\\\\comunidade-ds\\\\ciclo-basico\\\\ftc'"
      ]
     },
     "execution_count": 2,
     "metadata": {},
     "output_type": "execute_result"
    }
   ],
   "source": [
    "pwd"
   ]
  },
  {
   "cell_type": "code",
   "execution_count": 3,
   "id": "4ded3715-c6e4-424a-8713-cda94e6aa5c9",
   "metadata": {
    "execution": {
     "iopub.execute_input": "2023-07-23T20:51:11.089711Z",
     "iopub.status.busy": "2023-07-23T20:51:11.088710Z",
     "iopub.status.idle": "2023-07-23T20:51:11.245529Z",
     "shell.execute_reply": "2023-07-23T20:51:11.244518Z",
     "shell.execute_reply.started": "2023-07-23T20:51:11.089711Z"
    },
    "tags": []
   },
   "outputs": [],
   "source": [
    "df_raw = pd.read_csv('F:\\\\Ruiz\\\\comunidade-ds\\\\ciclo-basico\\\\ftc\\\\dados\\\\train.csv')"
   ]
  },
  {
   "cell_type": "markdown",
   "id": "480dcb1d-8297-45d1-bd95-4303b539082a",
   "metadata": {
    "jp-MarkdownHeadingCollapsed": true,
    "tags": []
   },
   "source": [
    "### Limpando e formatando a base de dados"
   ]
  },
  {
   "cell_type": "code",
   "execution_count": 4,
   "id": "cc8c5606-0018-42e9-a867-bf025678e78b",
   "metadata": {
    "execution": {
     "iopub.execute_input": "2023-07-23T20:51:16.440595Z",
     "iopub.status.busy": "2023-07-23T20:51:16.439592Z",
     "iopub.status.idle": "2023-07-23T20:51:32.650641Z",
     "shell.execute_reply": "2023-07-23T20:51:32.650641Z",
     "shell.execute_reply.started": "2023-07-23T20:51:16.440595Z"
    },
    "tags": []
   },
   "outputs": [],
   "source": [
    "# Fazendo cópia do dataframe lido\n",
    "df = df_raw.copy()\n",
    "\n",
    "# Conversao de texto para data\n",
    "df['Order_Date'] = pd.to_datetime( df['Order_Date'], format='%d-%m-%Y' )\n",
    "\n",
    "## Remover spaco da string \n",
    "cols = ['ID', 'Road_traffic_density', 'Type_of_order', 'Type_of_vehicle', 'City', 'Festival']\n",
    "df.loc[:, cols] = df.loc[:, cols].apply(lambda x: x.str.strip())\n",
    "\n",
    "\n",
    "\n",
    "# Excluir as linhas com a idade dos entregadores vazia\n",
    "# ( Conceitos de seleção condicional )\n",
    "linhas_vazias = df['Delivery_person_Age'] != 'NaN '\n",
    "df = df.loc[linhas_vazias, :]\n",
    "\n",
    "# Excluir as linhas com tipo de trafego vazio\n",
    "# ( Conceitos de seleção condicional )\n",
    "linhas_vazias = df['Road_traffic_density'] != 'NaN '\n",
    "df = df.loc[linhas_vazias, :]\n",
    "\n",
    "# Excluir as linhas com cidade vazio\n",
    "# ( Conceitos de seleção condicional )\n",
    "linhas_vazias = df['City'] != 'NaN '\n",
    "df = df.loc[linhas_vazias, :]\n",
    "\n",
    "# Conversao de texto/categoria/string para numeros inteiros\n",
    "df['Delivery_person_Age'] = df['Delivery_person_Age'].astype( int )\n",
    "\n",
    "# Conversao de texto/categoria/strings para numeros decimais\n",
    "df['Delivery_person_Ratings'] = df['Delivery_person_Ratings'].astype( float )\n",
    "\n",
    "\n",
    "# Remove as linhas da culuna multiple_deliveries que tenham o \n",
    "# conteudo igual a 'NaN '\n",
    "linhas_vazias = df['multiple_deliveries'] != 'NaN '\n",
    "df = df.loc[linhas_vazias, :]\n",
    "df['multiple_deliveries'] = df['multiple_deliveries'].astype( int )\n",
    "\n",
    "# Comando para remover o texto de números\n",
    "df = df.reset_index( drop=True )\n",
    "for i in range( len( df ) ):\n",
    "    df.loc[i, 'Time_taken(min)'] = re.findall( r'\\d+', df.loc[i, 'Time_taken(min)'] )\n",
    "df['Time_taken(min)'] = df['Time_taken(min)'].apply(lambda x: x[0]).astype(int)"
   ]
  },
  {
   "cell_type": "code",
   "execution_count": 5,
   "id": "3c210623-cfff-4feb-b568-41f404abf1ed",
   "metadata": {
    "execution": {
     "iopub.execute_input": "2023-07-23T20:51:44.832202Z",
     "iopub.status.busy": "2023-07-23T20:51:44.831202Z",
     "iopub.status.idle": "2023-07-23T20:51:44.854824Z",
     "shell.execute_reply": "2023-07-23T20:51:44.853814Z",
     "shell.execute_reply.started": "2023-07-23T20:51:44.832202Z"
    },
    "tags": []
   },
   "outputs": [
    {
     "data": {
      "text/html": [
       "<div>\n",
       "<style scoped>\n",
       "    .dataframe tbody tr th:only-of-type {\n",
       "        vertical-align: middle;\n",
       "    }\n",
       "\n",
       "    .dataframe tbody tr th {\n",
       "        vertical-align: top;\n",
       "    }\n",
       "\n",
       "    .dataframe thead th {\n",
       "        text-align: right;\n",
       "    }\n",
       "</style>\n",
       "<table border=\"1\" class=\"dataframe\">\n",
       "  <thead>\n",
       "    <tr style=\"text-align: right;\">\n",
       "      <th></th>\n",
       "      <th>ID</th>\n",
       "      <th>Delivery_person_ID</th>\n",
       "      <th>Delivery_person_Age</th>\n",
       "      <th>Delivery_person_Ratings</th>\n",
       "      <th>Restaurant_latitude</th>\n",
       "      <th>Restaurant_longitude</th>\n",
       "      <th>Delivery_location_latitude</th>\n",
       "      <th>Delivery_location_longitude</th>\n",
       "      <th>Order_Date</th>\n",
       "      <th>Time_Orderd</th>\n",
       "      <th>Time_Order_picked</th>\n",
       "      <th>Weatherconditions</th>\n",
       "      <th>Road_traffic_density</th>\n",
       "      <th>Vehicle_condition</th>\n",
       "      <th>Type_of_order</th>\n",
       "      <th>Type_of_vehicle</th>\n",
       "      <th>multiple_deliveries</th>\n",
       "      <th>Festival</th>\n",
       "      <th>City</th>\n",
       "      <th>Time_taken(min)</th>\n",
       "    </tr>\n",
       "  </thead>\n",
       "  <tbody>\n",
       "    <tr>\n",
       "      <th>0</th>\n",
       "      <td>0x4607</td>\n",
       "      <td>INDORES13DEL02</td>\n",
       "      <td>37</td>\n",
       "      <td>4.9</td>\n",
       "      <td>22.745049</td>\n",
       "      <td>75.892471</td>\n",
       "      <td>22.765049</td>\n",
       "      <td>75.912471</td>\n",
       "      <td>2022-03-19</td>\n",
       "      <td>11:30:00</td>\n",
       "      <td>11:45:00</td>\n",
       "      <td>conditions Sunny</td>\n",
       "      <td>High</td>\n",
       "      <td>2</td>\n",
       "      <td>Snack</td>\n",
       "      <td>motorcycle</td>\n",
       "      <td>0</td>\n",
       "      <td>No</td>\n",
       "      <td>Urban</td>\n",
       "      <td>24</td>\n",
       "    </tr>\n",
       "    <tr>\n",
       "      <th>1</th>\n",
       "      <td>0xb379</td>\n",
       "      <td>BANGRES18DEL02</td>\n",
       "      <td>34</td>\n",
       "      <td>4.5</td>\n",
       "      <td>12.913041</td>\n",
       "      <td>77.683237</td>\n",
       "      <td>13.043041</td>\n",
       "      <td>77.813237</td>\n",
       "      <td>2022-03-25</td>\n",
       "      <td>19:45:00</td>\n",
       "      <td>19:50:00</td>\n",
       "      <td>conditions Stormy</td>\n",
       "      <td>Jam</td>\n",
       "      <td>2</td>\n",
       "      <td>Snack</td>\n",
       "      <td>scooter</td>\n",
       "      <td>1</td>\n",
       "      <td>No</td>\n",
       "      <td>Metropolitian</td>\n",
       "      <td>33</td>\n",
       "    </tr>\n",
       "    <tr>\n",
       "      <th>2</th>\n",
       "      <td>0x5d6d</td>\n",
       "      <td>BANGRES19DEL01</td>\n",
       "      <td>23</td>\n",
       "      <td>4.4</td>\n",
       "      <td>12.914264</td>\n",
       "      <td>77.678400</td>\n",
       "      <td>12.924264</td>\n",
       "      <td>77.688400</td>\n",
       "      <td>2022-03-19</td>\n",
       "      <td>08:30:00</td>\n",
       "      <td>08:45:00</td>\n",
       "      <td>conditions Sandstorms</td>\n",
       "      <td>Low</td>\n",
       "      <td>0</td>\n",
       "      <td>Drinks</td>\n",
       "      <td>motorcycle</td>\n",
       "      <td>1</td>\n",
       "      <td>No</td>\n",
       "      <td>Urban</td>\n",
       "      <td>26</td>\n",
       "    </tr>\n",
       "    <tr>\n",
       "      <th>3</th>\n",
       "      <td>0x7a6a</td>\n",
       "      <td>COIMBRES13DEL02</td>\n",
       "      <td>38</td>\n",
       "      <td>4.7</td>\n",
       "      <td>11.003669</td>\n",
       "      <td>76.976494</td>\n",
       "      <td>11.053669</td>\n",
       "      <td>77.026494</td>\n",
       "      <td>2022-04-05</td>\n",
       "      <td>18:00:00</td>\n",
       "      <td>18:10:00</td>\n",
       "      <td>conditions Sunny</td>\n",
       "      <td>Medium</td>\n",
       "      <td>0</td>\n",
       "      <td>Buffet</td>\n",
       "      <td>motorcycle</td>\n",
       "      <td>1</td>\n",
       "      <td>No</td>\n",
       "      <td>Metropolitian</td>\n",
       "      <td>21</td>\n",
       "    </tr>\n",
       "    <tr>\n",
       "      <th>4</th>\n",
       "      <td>0x70a2</td>\n",
       "      <td>CHENRES12DEL01</td>\n",
       "      <td>32</td>\n",
       "      <td>4.6</td>\n",
       "      <td>12.972793</td>\n",
       "      <td>80.249982</td>\n",
       "      <td>13.012793</td>\n",
       "      <td>80.289982</td>\n",
       "      <td>2022-03-26</td>\n",
       "      <td>13:30:00</td>\n",
       "      <td>13:45:00</td>\n",
       "      <td>conditions Cloudy</td>\n",
       "      <td>High</td>\n",
       "      <td>1</td>\n",
       "      <td>Snack</td>\n",
       "      <td>scooter</td>\n",
       "      <td>1</td>\n",
       "      <td>No</td>\n",
       "      <td>Metropolitian</td>\n",
       "      <td>30</td>\n",
       "    </tr>\n",
       "  </tbody>\n",
       "</table>\n",
       "</div>"
      ],
      "text/plain": [
       "       ID Delivery_person_ID  Delivery_person_Age  Delivery_person_Ratings  \\\n",
       "0  0x4607    INDORES13DEL02                    37                      4.9   \n",
       "1  0xb379    BANGRES18DEL02                    34                      4.5   \n",
       "2  0x5d6d    BANGRES19DEL01                    23                      4.4   \n",
       "3  0x7a6a   COIMBRES13DEL02                    38                      4.7   \n",
       "4  0x70a2    CHENRES12DEL01                    32                      4.6   \n",
       "\n",
       "   Restaurant_latitude  Restaurant_longitude  Delivery_location_latitude  \\\n",
       "0            22.745049             75.892471                   22.765049   \n",
       "1            12.913041             77.683237                   13.043041   \n",
       "2            12.914264             77.678400                   12.924264   \n",
       "3            11.003669             76.976494                   11.053669   \n",
       "4            12.972793             80.249982                   13.012793   \n",
       "\n",
       "   Delivery_location_longitude Order_Date Time_Orderd Time_Order_picked  \\\n",
       "0                    75.912471 2022-03-19    11:30:00          11:45:00   \n",
       "1                    77.813237 2022-03-25    19:45:00          19:50:00   \n",
       "2                    77.688400 2022-03-19    08:30:00          08:45:00   \n",
       "3                    77.026494 2022-04-05    18:00:00          18:10:00   \n",
       "4                    80.289982 2022-03-26    13:30:00          13:45:00   \n",
       "\n",
       "       Weatherconditions Road_traffic_density  Vehicle_condition  \\\n",
       "0       conditions Sunny                 High                  2   \n",
       "1      conditions Stormy                  Jam                  2   \n",
       "2  conditions Sandstorms                  Low                  0   \n",
       "3       conditions Sunny               Medium                  0   \n",
       "4      conditions Cloudy                 High                  1   \n",
       "\n",
       "  Type_of_order Type_of_vehicle  multiple_deliveries Festival           City  \\\n",
       "0         Snack      motorcycle                    0       No          Urban   \n",
       "1         Snack         scooter                    1       No  Metropolitian   \n",
       "2        Drinks      motorcycle                    1       No          Urban   \n",
       "3        Buffet      motorcycle                    1       No  Metropolitian   \n",
       "4         Snack         scooter                    1       No  Metropolitian   \n",
       "\n",
       "   Time_taken(min)  \n",
       "0               24  \n",
       "1               33  \n",
       "2               26  \n",
       "3               21  \n",
       "4               30  "
      ]
     },
     "execution_count": 5,
     "metadata": {},
     "output_type": "execute_result"
    }
   ],
   "source": [
    "df.head()"
   ]
  },
  {
   "cell_type": "markdown",
   "id": "d2502487-169e-49e9-9a68-3dd136c99354",
   "metadata": {
    "tags": []
   },
   "source": [
    "## Respostas"
   ]
  },
  {
   "cell_type": "code",
   "execution_count": 6,
   "id": "eb5dede7-10b2-4395-be31-957842a8fe10",
   "metadata": {
    "execution": {
     "iopub.execute_input": "2023-07-23T20:52:06.800712Z",
     "iopub.status.busy": "2023-07-23T20:52:06.800712Z",
     "iopub.status.idle": "2023-07-23T20:52:06.825115Z",
     "shell.execute_reply": "2023-07-23T20:52:06.824107Z",
     "shell.execute_reply.started": "2023-07-23T20:52:06.800712Z"
    },
    "tags": []
   },
   "outputs": [
    {
     "data": {
      "text/html": [
       "<div>\n",
       "<style scoped>\n",
       "    .dataframe tbody tr th:only-of-type {\n",
       "        vertical-align: middle;\n",
       "    }\n",
       "\n",
       "    .dataframe tbody tr th {\n",
       "        vertical-align: top;\n",
       "    }\n",
       "\n",
       "    .dataframe thead th {\n",
       "        text-align: right;\n",
       "    }\n",
       "</style>\n",
       "<table border=\"1\" class=\"dataframe\">\n",
       "  <thead>\n",
       "    <tr style=\"text-align: right;\">\n",
       "      <th></th>\n",
       "      <th>ID</th>\n",
       "      <th>Delivery_person_ID</th>\n",
       "      <th>Delivery_person_Age</th>\n",
       "      <th>Delivery_person_Ratings</th>\n",
       "      <th>Restaurant_latitude</th>\n",
       "      <th>Restaurant_longitude</th>\n",
       "      <th>Delivery_location_latitude</th>\n",
       "      <th>Delivery_location_longitude</th>\n",
       "      <th>Order_Date</th>\n",
       "      <th>Time_Orderd</th>\n",
       "      <th>Time_Order_picked</th>\n",
       "      <th>Weatherconditions</th>\n",
       "      <th>Road_traffic_density</th>\n",
       "      <th>Vehicle_condition</th>\n",
       "      <th>Type_of_order</th>\n",
       "      <th>Type_of_vehicle</th>\n",
       "      <th>multiple_deliveries</th>\n",
       "      <th>Festival</th>\n",
       "      <th>City</th>\n",
       "      <th>Time_taken(min)</th>\n",
       "    </tr>\n",
       "  </thead>\n",
       "  <tbody>\n",
       "    <tr>\n",
       "      <th>0</th>\n",
       "      <td>0x4607</td>\n",
       "      <td>INDORES13DEL02</td>\n",
       "      <td>37</td>\n",
       "      <td>4.9</td>\n",
       "      <td>22.745049</td>\n",
       "      <td>75.892471</td>\n",
       "      <td>22.765049</td>\n",
       "      <td>75.912471</td>\n",
       "      <td>2022-03-19</td>\n",
       "      <td>11:30:00</td>\n",
       "      <td>11:45:00</td>\n",
       "      <td>conditions Sunny</td>\n",
       "      <td>High</td>\n",
       "      <td>2</td>\n",
       "      <td>Snack</td>\n",
       "      <td>motorcycle</td>\n",
       "      <td>0</td>\n",
       "      <td>No</td>\n",
       "      <td>Urban</td>\n",
       "      <td>24</td>\n",
       "    </tr>\n",
       "    <tr>\n",
       "      <th>1</th>\n",
       "      <td>0xb379</td>\n",
       "      <td>BANGRES18DEL02</td>\n",
       "      <td>34</td>\n",
       "      <td>4.5</td>\n",
       "      <td>12.913041</td>\n",
       "      <td>77.683237</td>\n",
       "      <td>13.043041</td>\n",
       "      <td>77.813237</td>\n",
       "      <td>2022-03-25</td>\n",
       "      <td>19:45:00</td>\n",
       "      <td>19:50:00</td>\n",
       "      <td>conditions Stormy</td>\n",
       "      <td>Jam</td>\n",
       "      <td>2</td>\n",
       "      <td>Snack</td>\n",
       "      <td>scooter</td>\n",
       "      <td>1</td>\n",
       "      <td>No</td>\n",
       "      <td>Metropolitian</td>\n",
       "      <td>33</td>\n",
       "    </tr>\n",
       "    <tr>\n",
       "      <th>2</th>\n",
       "      <td>0x5d6d</td>\n",
       "      <td>BANGRES19DEL01</td>\n",
       "      <td>23</td>\n",
       "      <td>4.4</td>\n",
       "      <td>12.914264</td>\n",
       "      <td>77.678400</td>\n",
       "      <td>12.924264</td>\n",
       "      <td>77.688400</td>\n",
       "      <td>2022-03-19</td>\n",
       "      <td>08:30:00</td>\n",
       "      <td>08:45:00</td>\n",
       "      <td>conditions Sandstorms</td>\n",
       "      <td>Low</td>\n",
       "      <td>0</td>\n",
       "      <td>Drinks</td>\n",
       "      <td>motorcycle</td>\n",
       "      <td>1</td>\n",
       "      <td>No</td>\n",
       "      <td>Urban</td>\n",
       "      <td>26</td>\n",
       "    </tr>\n",
       "    <tr>\n",
       "      <th>3</th>\n",
       "      <td>0x7a6a</td>\n",
       "      <td>COIMBRES13DEL02</td>\n",
       "      <td>38</td>\n",
       "      <td>4.7</td>\n",
       "      <td>11.003669</td>\n",
       "      <td>76.976494</td>\n",
       "      <td>11.053669</td>\n",
       "      <td>77.026494</td>\n",
       "      <td>2022-04-05</td>\n",
       "      <td>18:00:00</td>\n",
       "      <td>18:10:00</td>\n",
       "      <td>conditions Sunny</td>\n",
       "      <td>Medium</td>\n",
       "      <td>0</td>\n",
       "      <td>Buffet</td>\n",
       "      <td>motorcycle</td>\n",
       "      <td>1</td>\n",
       "      <td>No</td>\n",
       "      <td>Metropolitian</td>\n",
       "      <td>21</td>\n",
       "    </tr>\n",
       "    <tr>\n",
       "      <th>4</th>\n",
       "      <td>0x70a2</td>\n",
       "      <td>CHENRES12DEL01</td>\n",
       "      <td>32</td>\n",
       "      <td>4.6</td>\n",
       "      <td>12.972793</td>\n",
       "      <td>80.249982</td>\n",
       "      <td>13.012793</td>\n",
       "      <td>80.289982</td>\n",
       "      <td>2022-03-26</td>\n",
       "      <td>13:30:00</td>\n",
       "      <td>13:45:00</td>\n",
       "      <td>conditions Cloudy</td>\n",
       "      <td>High</td>\n",
       "      <td>1</td>\n",
       "      <td>Snack</td>\n",
       "      <td>scooter</td>\n",
       "      <td>1</td>\n",
       "      <td>No</td>\n",
       "      <td>Metropolitian</td>\n",
       "      <td>30</td>\n",
       "    </tr>\n",
       "  </tbody>\n",
       "</table>\n",
       "</div>"
      ],
      "text/plain": [
       "       ID Delivery_person_ID  Delivery_person_Age  Delivery_person_Ratings  \\\n",
       "0  0x4607    INDORES13DEL02                    37                      4.9   \n",
       "1  0xb379    BANGRES18DEL02                    34                      4.5   \n",
       "2  0x5d6d    BANGRES19DEL01                    23                      4.4   \n",
       "3  0x7a6a   COIMBRES13DEL02                    38                      4.7   \n",
       "4  0x70a2    CHENRES12DEL01                    32                      4.6   \n",
       "\n",
       "   Restaurant_latitude  Restaurant_longitude  Delivery_location_latitude  \\\n",
       "0            22.745049             75.892471                   22.765049   \n",
       "1            12.913041             77.683237                   13.043041   \n",
       "2            12.914264             77.678400                   12.924264   \n",
       "3            11.003669             76.976494                   11.053669   \n",
       "4            12.972793             80.249982                   13.012793   \n",
       "\n",
       "   Delivery_location_longitude Order_Date Time_Orderd Time_Order_picked  \\\n",
       "0                    75.912471 2022-03-19    11:30:00          11:45:00   \n",
       "1                    77.813237 2022-03-25    19:45:00          19:50:00   \n",
       "2                    77.688400 2022-03-19    08:30:00          08:45:00   \n",
       "3                    77.026494 2022-04-05    18:00:00          18:10:00   \n",
       "4                    80.289982 2022-03-26    13:30:00          13:45:00   \n",
       "\n",
       "       Weatherconditions Road_traffic_density  Vehicle_condition  \\\n",
       "0       conditions Sunny                 High                  2   \n",
       "1      conditions Stormy                  Jam                  2   \n",
       "2  conditions Sandstorms                  Low                  0   \n",
       "3       conditions Sunny               Medium                  0   \n",
       "4      conditions Cloudy                 High                  1   \n",
       "\n",
       "  Type_of_order Type_of_vehicle  multiple_deliveries Festival           City  \\\n",
       "0         Snack      motorcycle                    0       No          Urban   \n",
       "1         Snack         scooter                    1       No  Metropolitian   \n",
       "2        Drinks      motorcycle                    1       No          Urban   \n",
       "3        Buffet      motorcycle                    1       No  Metropolitian   \n",
       "4         Snack         scooter                    1       No  Metropolitian   \n",
       "\n",
       "   Time_taken(min)  \n",
       "0               24  \n",
       "1               33  \n",
       "2               26  \n",
       "3               21  \n",
       "4               30  "
      ]
     },
     "execution_count": 6,
     "metadata": {},
     "output_type": "execute_result"
    }
   ],
   "source": [
    "df1 = df.copy()\n",
    "df.head()"
   ]
  },
  {
   "cell_type": "markdown",
   "id": "c8fa98fa-4b22-4225-949e-9702ad0ea44e",
   "metadata": {
    "jp-MarkdownHeadingCollapsed": true,
    "tags": []
   },
   "source": [
    "### 1. Qual o número total de entregadores cadastrados na base de dados?"
   ]
  },
  {
   "cell_type": "code",
   "execution_count": 7,
   "id": "741b1f0f-2f00-4b29-9ca0-2b47cd812e7e",
   "metadata": {
    "execution": {
     "iopub.execute_input": "2023-07-23T20:52:25.111380Z",
     "iopub.status.busy": "2023-07-23T20:52:25.111380Z",
     "iopub.status.idle": "2023-07-23T20:52:25.120095Z",
     "shell.execute_reply": "2023-07-23T20:52:25.119084Z",
     "shell.execute_reply.started": "2023-07-23T20:52:25.111380Z"
    },
    "tags": []
   },
   "outputs": [
    {
     "data": {
      "text/plain": [
       "42805"
      ]
     },
     "execution_count": 7,
     "metadata": {},
     "output_type": "execute_result"
    }
   ],
   "source": [
    "total_deliveries = df1.ID.count()\n",
    "total_deliveries"
   ]
  },
  {
   "cell_type": "markdown",
   "id": "e2c9011f-9cde-4812-af9c-40fdfdfe1deb",
   "metadata": {
    "jp-MarkdownHeadingCollapsed": true,
    "tags": []
   },
   "source": [
    "### 2. Qual o número total de entregadores únicos cadastrados na base de dados?"
   ]
  },
  {
   "cell_type": "code",
   "execution_count": 8,
   "id": "fa0f8a77-efc1-4dd6-8003-69f58399250b",
   "metadata": {
    "execution": {
     "iopub.execute_input": "2023-07-23T20:52:28.655504Z",
     "iopub.status.busy": "2023-07-23T20:52:28.654504Z",
     "iopub.status.idle": "2023-07-23T20:52:28.665106Z",
     "shell.execute_reply": "2023-07-23T20:52:28.664096Z",
     "shell.execute_reply.started": "2023-07-23T20:52:28.655504Z"
    },
    "tags": []
   },
   "outputs": [
    {
     "data": {
      "text/plain": [
       "1320"
      ]
     },
     "execution_count": 8,
     "metadata": {},
     "output_type": "execute_result"
    }
   ],
   "source": [
    "total_unique_deliverers = df1.Delivery_person_ID.nunique()\n",
    "total_unique_deliverers "
   ]
  },
  {
   "cell_type": "markdown",
   "id": "4039f198-9be9-4b6e-9640-c9f5c73f2716",
   "metadata": {
    "jp-MarkdownHeadingCollapsed": true,
    "tags": []
   },
   "source": [
    "### 3. Qual a idade do entregador mais velho? E do mais novo?"
   ]
  },
  {
   "cell_type": "code",
   "execution_count": 22,
   "id": "9a0dc71f-cd9e-4225-bbe9-5510af3755e8",
   "metadata": {
    "execution": {
     "iopub.execute_input": "2023-07-23T20:58:34.541274Z",
     "iopub.status.busy": "2023-07-23T20:58:34.540273Z",
     "iopub.status.idle": "2023-07-23T20:58:34.567251Z",
     "shell.execute_reply": "2023-07-23T20:58:34.566239Z",
     "shell.execute_reply.started": "2023-07-23T20:58:34.541274Z"
    },
    "tags": []
   },
   "outputs": [
    {
     "name": "stdout",
     "output_type": "stream",
     "text": [
      "50\n",
      "15\n"
     ]
    }
   ],
   "source": [
    "dfaux = df1.sort_values( 'Delivery_person_Age', ascending=False )\n",
    "print( dfaux.iloc[0, 2] )\n",
    "print( dfaux.iloc[-1, 2] )"
   ]
  },
  {
   "cell_type": "markdown",
   "id": "893df4f4-6f63-44d6-b41c-3a9f24b7768e",
   "metadata": {
    "jp-MarkdownHeadingCollapsed": true,
    "tags": []
   },
   "source": [
    "### 4. Qual o ID do entregador com a maior idade? E o ID do entregaor com a menor idade?"
   ]
  },
  {
   "cell_type": "code",
   "execution_count": 23,
   "id": "7a299145-30a6-4318-97d5-fb92855cf57a",
   "metadata": {
    "execution": {
     "iopub.execute_input": "2023-07-23T20:59:33.199393Z",
     "iopub.status.busy": "2023-07-23T20:59:33.198391Z",
     "iopub.status.idle": "2023-07-23T20:59:33.204909Z",
     "shell.execute_reply": "2023-07-23T20:59:33.203898Z",
     "shell.execute_reply.started": "2023-07-23T20:59:33.199393Z"
    },
    "tags": []
   },
   "outputs": [
    {
     "name": "stdout",
     "output_type": "stream",
     "text": [
      "KNPRES03DEL03 \n",
      "CHENRES03DEL02 \n"
     ]
    }
   ],
   "source": [
    "print( dfaux.iloc[0, 1] )\n",
    "print( dfaux.iloc[-1, 1] )"
   ]
  },
  {
   "cell_type": "markdown",
   "id": "cfdd3d98-5f3f-415c-9466-7b5e01a425ee",
   "metadata": {
    "jp-MarkdownHeadingCollapsed": true,
    "tags": []
   },
   "source": [
    "### 5. Quais os nomes das condições climáticas?"
   ]
  },
  {
   "cell_type": "code",
   "execution_count": 32,
   "id": "9ec5bb45-24ec-491d-865b-c9e7c8a43182",
   "metadata": {
    "execution": {
     "iopub.execute_input": "2023-07-23T21:02:16.613389Z",
     "iopub.status.busy": "2023-07-23T21:02:16.613389Z",
     "iopub.status.idle": "2023-07-23T21:02:16.622840Z",
     "shell.execute_reply": "2023-07-23T21:02:16.621830Z",
     "shell.execute_reply.started": "2023-07-23T21:02:16.613389Z"
    },
    "tags": []
   },
   "outputs": [
    {
     "data": {
      "text/plain": [
       "array(['conditions Sunny', 'conditions Stormy', 'conditions Sandstorms',\n",
       "       'conditions Cloudy', 'conditions Fog', 'conditions Windy',\n",
       "       'conditions NaN'], dtype=object)"
      ]
     },
     "execution_count": 32,
     "metadata": {},
     "output_type": "execute_result"
    }
   ],
   "source": [
    "df1.Weatherconditions.unique()"
   ]
  },
  {
   "cell_type": "markdown",
   "id": "9e82dbeb-99c9-4653-986f-7ab92ae9663c",
   "metadata": {
    "jp-MarkdownHeadingCollapsed": true,
    "tags": []
   },
   "source": [
    "### 6. Quantas entregas foram realizadas sob condições climáticas de tempestade de areia? ( Sandstorms )"
   ]
  },
  {
   "cell_type": "code",
   "execution_count": 38,
   "id": "c51597f6-3b8b-42f8-bead-c9b73abd429f",
   "metadata": {
    "execution": {
     "iopub.execute_input": "2023-07-23T21:06:08.383835Z",
     "iopub.status.busy": "2023-07-23T21:06:08.382833Z",
     "iopub.status.idle": "2023-07-23T21:06:08.396081Z",
     "shell.execute_reply": "2023-07-23T21:06:08.396081Z",
     "shell.execute_reply.started": "2023-07-23T21:06:08.383835Z"
    },
    "tags": []
   },
   "outputs": [
    {
     "data": {
      "text/plain": [
       "7083"
      ]
     },
     "execution_count": 38,
     "metadata": {},
     "output_type": "execute_result"
    }
   ],
   "source": [
    "df1.query('Weatherconditions == \"conditions Sandstorms\" ').shape[0]"
   ]
  },
  {
   "cell_type": "code",
   "execution_count": 46,
   "id": "303c4db9-2aab-482f-8b6a-8c8f25c91207",
   "metadata": {
    "execution": {
     "iopub.execute_input": "2023-07-23T21:09:10.802347Z",
     "iopub.status.busy": "2023-07-23T21:09:10.802347Z",
     "iopub.status.idle": "2023-07-23T21:09:10.816425Z",
     "shell.execute_reply": "2023-07-23T21:09:10.815418Z",
     "shell.execute_reply.started": "2023-07-23T21:09:10.802347Z"
    },
    "tags": []
   },
   "outputs": [
    {
     "data": {
      "text/plain": [
       "7083"
      ]
     },
     "execution_count": 46,
     "metadata": {},
     "output_type": "execute_result"
    }
   ],
   "source": [
    "filtro = df1['Weatherconditions'] == 'conditions Sandstorms'\n",
    "\n",
    "df1.loc[ filtro, : ].shape[0]"
   ]
  },
  {
   "cell_type": "markdown",
   "id": "302a0f6a-b528-4144-8164-a8f76afcbcc5",
   "metadata": {
    "jp-MarkdownHeadingCollapsed": true,
    "tags": []
   },
   "source": [
    "### 7. Quais eram as condicões climáticas da data mais recente de entrega?"
   ]
  },
  {
   "cell_type": "code",
   "execution_count": 56,
   "id": "4bf33953-d703-4d73-b959-be1482724645",
   "metadata": {
    "execution": {
     "iopub.execute_input": "2023-07-23T21:15:06.695299Z",
     "iopub.status.busy": "2023-07-23T21:15:06.695299Z",
     "iopub.status.idle": "2023-07-23T21:15:06.718734Z",
     "shell.execute_reply": "2023-07-23T21:15:06.717722Z",
     "shell.execute_reply.started": "2023-07-23T21:15:06.695299Z"
    },
    "tags": []
   },
   "outputs": [
    {
     "data": {
      "text/plain": [
       "'conditions Windy'"
      ]
     },
     "execution_count": 56,
     "metadata": {},
     "output_type": "execute_result"
    }
   ],
   "source": [
    "dfaux = df1.sort_values( 'Order_Date', ascending=False )\n",
    "dfaux.iloc[ 0, 11 ]\n"
   ]
  },
  {
   "cell_type": "markdown",
   "id": "77c143d1-5f80-487d-bdb3-86f44f285395",
   "metadata": {
    "jp-MarkdownHeadingCollapsed": true,
    "tags": []
   },
   "source": [
    "### 8. Quantos tipos de densidade de trânsito existem na base de dados? Quais os nomes delas?"
   ]
  },
  {
   "cell_type": "code",
   "execution_count": 61,
   "id": "9f336a55-7156-4926-be3c-deddb6e2c6fb",
   "metadata": {
    "execution": {
     "iopub.execute_input": "2023-07-23T21:16:18.842041Z",
     "iopub.status.busy": "2023-07-23T21:16:18.841041Z",
     "iopub.status.idle": "2023-07-23T21:16:18.851034Z",
     "shell.execute_reply": "2023-07-23T21:16:18.851034Z",
     "shell.execute_reply.started": "2023-07-23T21:16:18.842041Z"
    },
    "tags": []
   },
   "outputs": [
    {
     "name": "stdout",
     "output_type": "stream",
     "text": [
      "5\n",
      "['High' 'Jam' 'Low' 'Medium' 'NaN']\n"
     ]
    }
   ],
   "source": [
    "print(df1.Road_traffic_density.nunique())\n",
    "print(df1.Road_traffic_density.unique())"
   ]
  },
  {
   "cell_type": "markdown",
   "id": "8a0dd4cb-ae1f-444c-be0e-b9e0c842d40f",
   "metadata": {
    "jp-MarkdownHeadingCollapsed": true,
    "tags": []
   },
   "source": [
    "### 9. Quantas entregas foram feitas em cada condição climática?"
   ]
  },
  {
   "cell_type": "code",
   "execution_count": 163,
   "id": "5a8d2257-9aba-44af-8e78-706d1f896323",
   "metadata": {
    "execution": {
     "iopub.execute_input": "2023-07-23T23:33:47.262536Z",
     "iopub.status.busy": "2023-07-23T23:33:47.262536Z",
     "iopub.status.idle": "2023-07-23T23:33:47.276055Z",
     "shell.execute_reply": "2023-07-23T23:33:47.275043Z",
     "shell.execute_reply.started": "2023-07-23T23:33:47.262536Z"
    },
    "tags": []
   },
   "outputs": [
    {
     "data": {
      "text/plain": [
       "Weatherconditions\n",
       "conditions Cloudy        7135\n",
       "conditions Fog           7288\n",
       "conditions NaN             91\n",
       "conditions Sandstorms    7083\n",
       "conditions Stormy        7226\n",
       "conditions Sunny         6904\n",
       "conditions Windy         7078\n",
       "Name: ID, dtype: int64"
      ]
     },
     "execution_count": 163,
     "metadata": {},
     "output_type": "execute_result"
    }
   ],
   "source": [
    "df1.groupby('Weatherconditions').ID.count()"
   ]
  },
  {
   "cell_type": "markdown",
   "id": "d2c95d74-2e34-4cdf-8c31-61cdc20153a0",
   "metadata": {
    "jp-MarkdownHeadingCollapsed": true,
    "tags": []
   },
   "source": [
    "### 10. Quantos entregadores únicos fizeram entregas em cada condição climática?"
   ]
  },
  {
   "cell_type": "code",
   "execution_count": 86,
   "id": "f267f3ae-0f78-4b02-bb4a-90e423d8cb03",
   "metadata": {
    "execution": {
     "iopub.execute_input": "2023-07-23T21:35:06.519822Z",
     "iopub.status.busy": "2023-07-23T21:35:06.519822Z",
     "iopub.status.idle": "2023-07-23T21:35:06.538029Z",
     "shell.execute_reply": "2023-07-23T21:35:06.537020Z",
     "shell.execute_reply.started": "2023-07-23T21:35:06.519822Z"
    },
    "tags": []
   },
   "outputs": [
    {
     "name": "stdout",
     "output_type": "stream",
     "text": [
      "conditions Cloudy teve 1246 entregas.\n",
      "conditions Fog teve 1251 entregas.\n",
      "conditions NaN teve 87 entregas.\n",
      "conditions Sandstorms teve 1239 entregas.\n",
      "conditions Stormy teve 1234 entregas.\n",
      "conditions Sunny teve 1233 entregas.\n",
      "conditions Windy teve 1230 entregas.\n"
     ]
    }
   ],
   "source": [
    "dfaux = pd.DataFrame(df1.groupby('Weatherconditions').Delivery_person_ID.nunique())\n",
    "for i, row in dfaux.iterrows():\n",
    "    print(f'{i} teve {row[0]} entregas.')"
   ]
  },
  {
   "cell_type": "markdown",
   "id": "70c6aec6-4dca-4281-ac8f-b520b31e7281",
   "metadata": {
    "jp-MarkdownHeadingCollapsed": true,
    "tags": []
   },
   "source": [
    "### 11. Quantas entregas foram feitas em cada tipo de densidade de trânsito?"
   ]
  },
  {
   "cell_type": "code",
   "execution_count": 72,
   "id": "375f482a-79a3-4c20-ac9b-9001895df09b",
   "metadata": {
    "execution": {
     "iopub.execute_input": "2023-07-23T21:25:18.856570Z",
     "iopub.status.busy": "2023-07-23T21:25:18.856570Z",
     "iopub.status.idle": "2023-07-23T21:25:18.868227Z",
     "shell.execute_reply": "2023-07-23T21:25:18.868227Z",
     "shell.execute_reply.started": "2023-07-23T21:25:18.856570Z"
    },
    "tags": []
   },
   "outputs": [
    {
     "data": {
      "text/plain": [
       "Road_traffic_density\n",
       "High       4212\n",
       "Jam       13480\n",
       "Low       14605\n",
       "Medium    10417\n",
       "NaN          91\n",
       "Name: ID, dtype: int64"
      ]
     },
     "execution_count": 72,
     "metadata": {},
     "output_type": "execute_result"
    }
   ],
   "source": [
    "df1.groupby('Road_traffic_density').ID.count()"
   ]
  },
  {
   "cell_type": "markdown",
   "id": "0a6ca3fc-02ec-454d-84a0-41cdcda7516f",
   "metadata": {
    "jp-MarkdownHeadingCollapsed": true,
    "tags": []
   },
   "source": [
    "### 12. Quantos entregadores únicos fizeram entregas em cada tipo de densidade"
   ]
  },
  {
   "cell_type": "code",
   "execution_count": 73,
   "id": "15dd47b9-085e-4c78-98c4-60f48df66e81",
   "metadata": {
    "execution": {
     "iopub.execute_input": "2023-07-23T21:25:35.426737Z",
     "iopub.status.busy": "2023-07-23T21:25:35.426737Z",
     "iopub.status.idle": "2023-07-23T21:25:35.445275Z",
     "shell.execute_reply": "2023-07-23T21:25:35.444266Z",
     "shell.execute_reply.started": "2023-07-23T21:25:35.426737Z"
    },
    "tags": []
   },
   "outputs": [
    {
     "data": {
      "text/plain": [
       "Road_traffic_density\n",
       "High       787\n",
       "Jam       1306\n",
       "Low       1310\n",
       "Medium    1287\n",
       "NaN         87\n",
       "Name: Delivery_person_ID, dtype: int64"
      ]
     },
     "execution_count": 73,
     "metadata": {},
     "output_type": "execute_result"
    }
   ],
   "source": [
    "df1.groupby('Road_traffic_density').Delivery_person_ID.nunique()"
   ]
  },
  {
   "cell_type": "markdown",
   "id": "02abe7d1-0cde-478e-bfd6-9ffc92e2c21d",
   "metadata": {
    "jp-MarkdownHeadingCollapsed": true,
    "tags": []
   },
   "source": [
    "### 13. Quantas cidades únicas existem na base? Quais são os seus nomes?"
   ]
  },
  {
   "cell_type": "code",
   "execution_count": 74,
   "id": "f6dd77d0-6b0e-4219-9df1-43570cb3d11f",
   "metadata": {
    "execution": {
     "iopub.execute_input": "2023-07-23T21:26:25.705879Z",
     "iopub.status.busy": "2023-07-23T21:26:25.705879Z",
     "iopub.status.idle": "2023-07-23T21:26:25.717780Z",
     "shell.execute_reply": "2023-07-23T21:26:25.716767Z",
     "shell.execute_reply.started": "2023-07-23T21:26:25.705879Z"
    },
    "tags": []
   },
   "outputs": [
    {
     "name": "stdout",
     "output_type": "stream",
     "text": [
      "4\n",
      "['Urban' 'Metropolitian' 'Semi-Urban' 'NaN']\n"
     ]
    }
   ],
   "source": [
    "print( df1.City.nunique() )\n",
    "print( df1.City.unique() )"
   ]
  },
  {
   "cell_type": "markdown",
   "id": "09492396-5fb7-4477-a846-fd4d070d4112",
   "metadata": {
    "jp-MarkdownHeadingCollapsed": true,
    "tags": []
   },
   "source": [
    "### 14. Quantos tipos de veículos únicos existem na base?"
   ]
  },
  {
   "cell_type": "code",
   "execution_count": 76,
   "id": "b7a91fe5-3098-44f8-ac3d-0d9c2a8b463c",
   "metadata": {
    "execution": {
     "iopub.execute_input": "2023-07-23T21:27:47.817908Z",
     "iopub.status.busy": "2023-07-23T21:27:47.817908Z",
     "iopub.status.idle": "2023-07-23T21:27:47.826085Z",
     "shell.execute_reply": "2023-07-23T21:27:47.825076Z",
     "shell.execute_reply.started": "2023-07-23T21:27:47.817908Z"
    },
    "tags": []
   },
   "outputs": [
    {
     "name": "stdout",
     "output_type": "stream",
     "text": [
      "4\n"
     ]
    }
   ],
   "source": [
    "print( df1.Type_of_vehicle.nunique() )"
   ]
  },
  {
   "cell_type": "markdown",
   "id": "a84b3008-a15b-40bc-ba1b-39b170b3e8dd",
   "metadata": {
    "jp-MarkdownHeadingCollapsed": true,
    "tags": []
   },
   "source": [
    "### 15. Qual o tipo de veículo que mais vez entregas com a condição de trânsito pesado? ( High )"
   ]
  },
  {
   "cell_type": "code",
   "execution_count": 144,
   "id": "fd6fd107-4166-45bf-9fa9-68fa28ba8d9c",
   "metadata": {
    "execution": {
     "iopub.execute_input": "2023-07-23T23:01:40.445146Z",
     "iopub.status.busy": "2023-07-23T23:01:40.445146Z",
     "iopub.status.idle": "2023-07-23T23:01:40.460283Z",
     "shell.execute_reply": "2023-07-23T23:01:40.460283Z",
     "shell.execute_reply.started": "2023-07-23T23:01:40.445146Z"
    },
    "tags": []
   },
   "outputs": [
    {
     "name": "stdout",
     "output_type": "stream",
     "text": [
      "motorcycle\n"
     ]
    },
    {
     "data": {
      "text/plain": [
       "Type_of_vehicle\n",
       "electric_scooter     332\n",
       "motorcycle          2481\n",
       "scooter             1399\n",
       "Name: ID, dtype: int64"
      ]
     },
     "execution_count": 144,
     "metadata": {},
     "output_type": "execute_result"
    }
   ],
   "source": [
    "series = df1.query( 'Road_traffic_density == \"High\"' ).groupby( 'Type_of_vehicle' ).ID.count()\n",
    "print(series.idxmax())\n",
    "series"
   ]
  },
  {
   "cell_type": "markdown",
   "id": "7ed4cd5b-9b20-419b-a0d2-1cffc49bcbc4",
   "metadata": {
    "jp-MarkdownHeadingCollapsed": true,
    "tags": []
   },
   "source": [
    "### 16. Qual o tipo de pedido mais feito durante condições climáticas de tempestade de areia?"
   ]
  },
  {
   "cell_type": "code",
   "execution_count": 142,
   "id": "7147e94e-415b-4105-aeff-124eb1690125",
   "metadata": {
    "execution": {
     "iopub.execute_input": "2023-07-23T23:01:31.553157Z",
     "iopub.status.busy": "2023-07-23T23:01:31.552160Z",
     "iopub.status.idle": "2023-07-23T23:01:31.568617Z",
     "shell.execute_reply": "2023-07-23T23:01:31.568617Z",
     "shell.execute_reply.started": "2023-07-23T23:01:31.553157Z"
    },
    "tags": []
   },
   "outputs": [
    {
     "name": "stdout",
     "output_type": "stream",
     "text": [
      "Meal\n"
     ]
    },
    {
     "data": {
      "text/plain": [
       "Type_of_order\n",
       "Buffet    1732\n",
       "Drinks    1734\n",
       "Meal      1812\n",
       "Snack     1805\n",
       "Name: ID, dtype: int64"
      ]
     },
     "execution_count": 142,
     "metadata": {},
     "output_type": "execute_result"
    }
   ],
   "source": [
    "series = df1.query( 'Weatherconditions == \"conditions Sandstorms\"' ).groupby( 'Type_of_order' ).ID.count()\n",
    "\n",
    "print(series.idxmax())\n",
    "series"
   ]
  },
  {
   "cell_type": "markdown",
   "id": "d36787cc-b75d-4f3f-9f12-614279384823",
   "metadata": {
    "jp-MarkdownHeadingCollapsed": true,
    "tags": []
   },
   "source": [
    "### 17. Qual a cidade com o maior número de pedidos de Bebidas (Drinks) feito em\n",
    "Scooter?"
   ]
  },
  {
   "cell_type": "code",
   "execution_count": 143,
   "id": "aac3d5c0-2f2b-4590-a1c1-e18f8a052be3",
   "metadata": {
    "execution": {
     "iopub.execute_input": "2023-07-23T23:01:33.544574Z",
     "iopub.status.busy": "2023-07-23T23:01:33.544574Z",
     "iopub.status.idle": "2023-07-23T23:01:33.561838Z",
     "shell.execute_reply": "2023-07-23T23:01:33.561838Z",
     "shell.execute_reply.started": "2023-07-23T23:01:33.544574Z"
    },
    "tags": []
   },
   "outputs": [
    {
     "name": "stdout",
     "output_type": "stream",
     "text": [
      "Metropolitian\n"
     ]
    },
    {
     "data": {
      "text/plain": [
       "City\n",
       "Metropolitian    2655\n",
       "NaN               100\n",
       "Semi-Urban          1\n",
       "Urban             847\n",
       "Name: ID, dtype: int64"
      ]
     },
     "execution_count": 143,
     "metadata": {},
     "output_type": "execute_result"
    }
   ],
   "source": [
    "series = df1.query( 'Type_of_order == \"Drinks\" & Type_of_vehicle == \"scooter\"' ).groupby( 'City' ).ID.count()\n",
    "print(series.idxmax())\n",
    "series"
   ]
  },
  {
   "cell_type": "markdown",
   "id": "ab7a6f35-6d8f-4b42-aaa7-ab8c415d9c46",
   "metadata": {
    "jp-MarkdownHeadingCollapsed": true,
    "tags": []
   },
   "source": [
    "### 18. Qual o nome da cidade com o (os) entregador mais velho? E o nome da cidade com o (os) entregadores mais novos?"
   ]
  },
  {
   "cell_type": "code",
   "execution_count": 148,
   "id": "4cb31198-1140-4432-a0c8-79f5992adb5b",
   "metadata": {
    "execution": {
     "iopub.execute_input": "2023-07-23T23:04:59.971479Z",
     "iopub.status.busy": "2023-07-23T23:04:59.971479Z",
     "iopub.status.idle": "2023-07-23T23:04:59.987520Z",
     "shell.execute_reply": "2023-07-23T23:04:59.986509Z",
     "shell.execute_reply.started": "2023-07-23T23:04:59.971479Z"
    },
    "tags": []
   },
   "outputs": [
    {
     "name": "stdout",
     "output_type": "stream",
     "text": [
      "A cidade com os entregadores mais velhos é Metropolitian\n",
      "City\n",
      "Metropolitian    37\n",
      "NaN               2\n",
      "Urban            14\n",
      "Name: City, dtype: int64\n",
      "\n",
      "A cidade com os entregadores mais novos é Metropolitian\n",
      "City\n",
      "Metropolitian    27\n",
      "Urban            11\n",
      "Name: City, dtype: int64\n"
     ]
    }
   ],
   "source": [
    "oldest_deliverer = df1.Delivery_person_Age.max()\n",
    "series = df1.query( 'Delivery_person_Age == @oldest_deliverer' ).groupby('City').City.count()\n",
    "\n",
    "print(f'A cidade com os entregadores mais velhos é {series.idxmax()}')\n",
    "print(series)\n",
    "print()\n",
    "\n",
    "youngest_deliverer = df1.Delivery_person_Age.min()\n",
    "series = df1.query( 'Delivery_person_Age == @youngest_deliverer' ).groupby('City').City.count()\n",
    "print(f'A cidade com os entregadores mais novos é {series.idxmax()}')\n",
    "print(series)"
   ]
  },
  {
   "cell_type": "markdown",
   "id": "3e0d8561-6c15-4fbd-af4f-e58d3fc6dacf",
   "metadata": {
    "jp-MarkdownHeadingCollapsed": true,
    "tags": []
   },
   "source": [
    "### 19. Quantas entregas foram feitas durante o Festival?"
   ]
  },
  {
   "cell_type": "code",
   "execution_count": 156,
   "id": "213a4a3d-5e84-41a1-b611-d39e3dae9b48",
   "metadata": {
    "execution": {
     "iopub.execute_input": "2023-07-23T23:06:33.953252Z",
     "iopub.status.busy": "2023-07-23T23:06:33.953252Z",
     "iopub.status.idle": "2023-07-23T23:06:33.964599Z",
     "shell.execute_reply": "2023-07-23T23:06:33.963575Z",
     "shell.execute_reply.started": "2023-07-23T23:06:33.953252Z"
    },
    "tags": []
   },
   "outputs": [
    {
     "data": {
      "text/plain": [
       "848"
      ]
     },
     "execution_count": 156,
     "metadata": {},
     "output_type": "execute_result"
    }
   ],
   "source": [
    "df1.query( 'Festival == \"Yes\" ' ).ID.count()"
   ]
  },
  {
   "cell_type": "markdown",
   "id": "e4743361-deab-47fc-9c47-973cc2e4334b",
   "metadata": {
    "jp-MarkdownHeadingCollapsed": true,
    "tags": []
   },
   "source": [
    "### 20. Quantas cidades únicas tiveram entregas feitas durante o Festival?"
   ]
  },
  {
   "cell_type": "code",
   "execution_count": 158,
   "id": "67bd4ada-4b12-4c98-ad63-d114b1cb8131",
   "metadata": {
    "execution": {
     "iopub.execute_input": "2023-07-23T23:07:00.688050Z",
     "iopub.status.busy": "2023-07-23T23:07:00.687044Z",
     "iopub.status.idle": "2023-07-23T23:07:00.698762Z",
     "shell.execute_reply": "2023-07-23T23:07:00.697752Z",
     "shell.execute_reply.started": "2023-07-23T23:07:00.688050Z"
    },
    "tags": []
   },
   "outputs": [
    {
     "data": {
      "text/plain": [
       "4"
      ]
     },
     "execution_count": 158,
     "metadata": {},
     "output_type": "execute_result"
    }
   ],
   "source": [
    "df1.query( 'Festival == \"Yes\" ' ).City.nunique()"
   ]
  },
  {
   "cell_type": "markdown",
   "id": "250952aa-463e-494e-a468-aab7336d3ab9",
   "metadata": {
    "jp-MarkdownHeadingCollapsed": true,
    "tags": []
   },
   "source": [
    "### 21. Quantas entregas foram feitas durante o Festival na cidade chamada Urban\n",
    "(\"Urban\")"
   ]
  },
  {
   "cell_type": "code",
   "execution_count": 161,
   "id": "ad7b79c1-7618-463c-9704-8136555dd83d",
   "metadata": {
    "execution": {
     "iopub.execute_input": "2023-07-23T23:07:47.240321Z",
     "iopub.status.busy": "2023-07-23T23:07:47.240321Z",
     "iopub.status.idle": "2023-07-23T23:07:47.253276Z",
     "shell.execute_reply": "2023-07-23T23:07:47.253276Z",
     "shell.execute_reply.started": "2023-07-23T23:07:47.240321Z"
    },
    "tags": []
   },
   "outputs": [
    {
     "data": {
      "text/plain": [
       "109"
      ]
     },
     "execution_count": 161,
     "metadata": {},
     "output_type": "execute_result"
    }
   ],
   "source": [
    "df1.query( 'Festival == \"Yes\" & City == \"Urban\" ' ).ID.count()"
   ]
  }
 ],
 "metadata": {
  "kernelspec": {
   "display_name": "Python 3 (ipykernel)",
   "language": "python",
   "name": "python3"
  },
  "language_info": {
   "codemirror_mode": {
    "name": "ipython",
    "version": 3
   },
   "file_extension": ".py",
   "mimetype": "text/x-python",
   "name": "python",
   "nbconvert_exporter": "python",
   "pygments_lexer": "ipython3",
   "version": "3.11.4"
  }
 },
 "nbformat": 4,
 "nbformat_minor": 5
}
